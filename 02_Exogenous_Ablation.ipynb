{
 "cells": [
  {
   "cell_type": "markdown",
   "id": "5ea06f57",
   "metadata": {},
   "source": [
    "# 02 — Exogenous Feature Ablation: BTC-only vs BTC+Exogenous"
   ]
  },
  {
   "cell_type": "markdown",
   "id": "6a5d34a6",
   "metadata": {},
   "source": [
    "Compare two runs: BTC-only vs BTC plus a synthetic gold series (replace with real exogenous CSVs)."
   ]
  },
  {
   "cell_type": "code",
   "execution_count": null,
   "id": "01596a82",
   "metadata": {},
   "outputs": [],
   "source": [
    "import os, sys, yaml, pandas as pd, numpy as np\n",
    "from pathlib import Path\n",
    "PROJECT_ROOT = Path.cwd() / 'btc_return_forecasting_full'\n",
    "sys.path.insert(0, str(PROJECT_ROOT))\n",
    "from src.pipeline import run_pipeline\n"
   ]
  },
  {
   "cell_type": "code",
   "execution_count": null,
   "id": "027b168b",
   "metadata": {},
   "outputs": [],
   "source": [
    "base_cfg_path = PROJECT_ROOT / 'configs' / 'example_daily.yaml'\n",
    "with open(base_cfg_path, 'r') as f:\n",
    "    base_cfg = yaml.safe_load(f)\n",
    "\n",
    "# Ensure BTC CSV exists\n",
    "csv_path = PROJECT_ROOT / base_cfg['data']['main_csv']\n",
    "csv_path.parent.mkdir(parents=True, exist_ok=True)\n",
    "if not csv_path.exists():\n",
    "    dates = pd.date_range('2022-01-01', periods=800, freq='D', tz='UTC')\n",
    "    price = 40000 + np.cumsum(np.random.randn(len(dates)) * 150)\n",
    "    pd.DataFrame({'timestamp': dates.tz_convert('UTC').strftime('%Y-%m-%d'), 'price': price}).to_csv(csv_path, index=False)\n"
   ]
  },
  {
   "cell_type": "code",
   "execution_count": null,
   "id": "9f8c2aa7",
   "metadata": {},
   "outputs": [],
   "source": [
    "# BTC-only\n",
    "btc_only = dict(base_cfg)\n",
    "btc_only['run']['run_name'] = 'nb_btc_only'\n",
    "btc_only['exogenous'] = {'enabled': False, 'assets': []}\n",
    "btc_only['tuning']['n_candidates'] = 5\n",
    "\n",
    "# BTC + synthetic gold\n",
    "gold_csv = PROJECT_ROOT / 'data' / 'gold_demo.csv'\n",
    "if not gold_csv.exists():\n",
    "    dates = pd.date_range('2022-01-01', periods=800, freq='D', tz='UTC')\n",
    "    gold = 1800 + np.cumsum(np.random.randn(len(dates)) * 2.0)\n",
    "    pd.DataFrame({'timestamp': dates.tz_convert('UTC').strftime('%Y-%m-%d'), 'price': gold}).to_csv(gold_csv, index=False)\n",
    "\n",
    "btc_exo = dict(base_cfg)\n",
    "btc_exo['run']['run_name'] = 'nb_btc_plus_exogenous'\n",
    "btc_exo['exogenous'] = {'enabled': True, 'assets': [{'name':'gold','csv':str(gold_csv),'price_col':'price'}]}\n",
    "btc_exo['tuning']['n_candidates'] = 5\n"
   ]
  },
  {
   "cell_type": "markdown",
   "id": "8e7cda01",
   "metadata": {},
   "source": [
    "## Run both experiments"
   ]
  },
  {
   "cell_type": "code",
   "execution_count": null,
   "id": "38ff6e36",
   "metadata": {},
   "outputs": [],
   "source": [
    "out1, lb1 = run_pipeline(btc_only)\n",
    "out2, lb2 = run_pipeline(btc_exo)\n",
    "print('BTC-only:', out1)\n",
    "print('BTC+exo:', out2)\n",
    "print(lb1.sort_values('r2', ascending=False).head())\n",
    "print(lb2.sort_values('r2', ascending=False).head())"
   ]
  },
  {
   "cell_type": "markdown",
   "id": "1c39fdb3",
   "metadata": {},
   "source": [
    "## Compare R²"
   ]
  },
  {
   "cell_type": "code",
   "execution_count": null,
   "id": "491b3cee",
   "metadata": {},
   "outputs": [],
   "source": [
    "cmp = (lb1.merge(lb2, on='model', suffixes=('_btc_only','_btc_exo'))\n",
    "        [['model','r2_btc_only','r2_btc_exo']]\n",
    "        .sort_values('r2_btc_exo', ascending=False))\n",
    "cmp.head(10)"
   ]
  },
  {
   "cell_type": "markdown",
   "id": "d1a0a0ee",
   "metadata": {},
   "source": [
    "### ΔR² bar chart"
   ]
  },
  {
   "cell_type": "code",
   "execution_count": null,
   "id": "bd9ad696",
   "metadata": {},
   "outputs": [],
   "source": [
    "import matplotlib.pyplot as plt\n",
    "import pandas as pd\n",
    "\n",
    "delta = cmp.copy()\n",
    "delta['delta_r2'] = delta['r2_btc_exo'] - delta['r2_btc_only']\n",
    "plt.figure()\n",
    "plt.bar(delta['model'], delta['delta_r2'])\n",
    "plt.title('ΔR² from adding exogenous features (higher is better)')\n",
    "plt.xlabel('Model')\n",
    "plt.ylabel('ΔR²')\n",
    "plt.tight_layout()\n",
    "plt.show()"
   ]
  }
 ],
 "metadata": {
  "kernelspec": {
   "display_name": "Python 3",
   "language": "python",
   "name": "python3"
  },
  "language_info": {
   "name": "python",
   "version": "3.x"
  }
 },
 "nbformat": 4,
 "nbformat_minor": 5
}
